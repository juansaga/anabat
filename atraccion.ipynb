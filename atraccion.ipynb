{
 "cells": [
  {
   "cell_type": "code",
   "execution_count": 1,
   "metadata": {},
   "outputs": [],
   "source": [
    "import pandas as pd\n",
    "\n",
    "from datetime import timedelta"
   ]
  },
  {
   "cell_type": "code",
   "execution_count": 2,
   "metadata": {},
   "outputs": [],
   "source": [
    "data = pd.read_csv('Atraccion_depredadores_PRUEBAS2.csv', encoding='latin-1', delimiter=';')"
   ]
  },
  {
   "cell_type": "code",
   "execution_count": 3,
   "metadata": {},
   "outputs": [],
   "source": [
    "# data['HORA'].unique()\n",
    "data['HORA'] = data['HORA'].apply(lambda x: x.replace('.\\xa0', '').replace('.', '').strip())\n"
   ]
  },
  {
   "cell_type": "code",
   "execution_count": 4,
   "metadata": {},
   "outputs": [],
   "source": [
    "data = data.reset_index()\n",
    "data.columns = [col.strip() for col in data.columns]"
   ]
  },
  {
   "cell_type": "code",
   "execution_count": 5,
   "metadata": {},
   "outputs": [],
   "source": [
    "data_cols_a_desnormalizar = data[['index', 'T1', 'T2', 'T3', 'T4', 'T5', 'T6', 'T7', 'T8', 'T9', 'T10', 'T11']]"
   ]
  },
  {
   "cell_type": "code",
   "execution_count": 6,
   "metadata": {},
   "outputs": [],
   "source": [
    "# Identificando las columnas que comienzan con 'T'\n",
    "t_columns = ['T1', 'T2', 'T3', 'T4', 'T5', 'T6', 'T7', 'T8', 'T9', 'T10', 'T11']\n",
    "\n",
    "# Creando un DataFrame \"largo\" donde cada 'T' es una fila\n",
    "melted_data = data_cols_a_desnormalizar.melt(id_vars=['index'], value_vars=t_columns, \n",
    "                        var_name='Tipo', value_name='Valor')\n",
    "\n",
    "\n",
    "\n",
    "\n"
   ]
  },
  {
   "cell_type": "code",
   "execution_count": 7,
   "metadata": {},
   "outputs": [],
   "source": [
    "data_col_orig_faltantes = data[['index', 'SITIO', 'FECHA', 'HORA', 'playlist']]"
   ]
  },
  {
   "cell_type": "code",
   "execution_count": 8,
   "metadata": {},
   "outputs": [],
   "source": [
    "data_desnormalizada = melted_data.merge(data_col_orig_faltantes, how = 'left', on = ['index'])"
   ]
  },
  {
   "cell_type": "code",
   "execution_count": 9,
   "metadata": {},
   "outputs": [],
   "source": [
    "# Convertir la columna 'HORA' a datetime y ajustar según 'Tipo'\n",
    "data_desnormalizada['HORA'] = pd.to_datetime(data_desnormalizada['HORA'], format='%I:%M:%S %p', errors='coerce')\n",
    "\n",
    "\n"
   ]
  },
  {
   "cell_type": "code",
   "execution_count": 10,
   "metadata": {},
   "outputs": [],
   "source": [
    "data_desnormalizada['min_a_sumar'] = data_desnormalizada['Tipo'].apply(lambda x: int(x[1:]))"
   ]
  },
  {
   "cell_type": "code",
   "execution_count": 11,
   "metadata": {},
   "outputs": [],
   "source": [
    "data_desnormalizada['HORA'] = data_desnormalizada['HORA'] + pd.to_timedelta(data_desnormalizada['min_a_sumar'] - 1, unit='m')\n"
   ]
  },
  {
   "cell_type": "code",
   "execution_count": 12,
   "metadata": {},
   "outputs": [],
   "source": [
    "# Formateando la columna 'HORA' para mostrar solo hora, minutos y segundos\n",
    "data_desnormalizada['HORA'] = data_desnormalizada['HORA'].dt.strftime('%H:%M:%S')"
   ]
  },
  {
   "cell_type": "code",
   "execution_count": 13,
   "metadata": {},
   "outputs": [],
   "source": [
    "# Eliminando la columna auxiliar de minutos añadidos\n",
    "data_desnormalizada.drop(columns='min_a_sumar', inplace=True)"
   ]
  },
  {
   "cell_type": "code",
   "execution_count": 14,
   "metadata": {},
   "outputs": [],
   "source": [
    "data_response = data_desnormalizada[['index', 'SITIO', 'FECHA', 'HORA', 'playlist', 'Tipo', 'Valor']]"
   ]
  },
  {
   "cell_type": "code",
   "execution_count": 15,
   "metadata": {},
   "outputs": [],
   "source": [
    "# Ordenando primero por 'playlist' y luego por 'Tipo'\n",
    "# Asegurarse que 'playlist' y 'Tipo' están en el formato correcto para ordenamiento\n",
    "data_response['playlist'] = data_response['playlist'].astype(int)  # Convertir 'playlist' a entero si no lo es\n",
    "data_response['Tipo_index'] = data_response['Tipo'].apply(lambda x: int(x[1:]))  # Extraer el número del tipo para ordenamiento\n",
    "\n",
    "# Ordenar primero por 'playlist', luego por 'Tipo_index'\n",
    "data_response.sort_values(by=['playlist', 'HORA'], inplace=True)\n",
    "\n",
    "# Eliminar la columna auxiliar 'Tipo_index'\n",
    "data_response.drop('Tipo_index', axis=1, inplace=True)"
   ]
  },
  {
   "cell_type": "code",
   "execution_count": 17,
   "metadata": {},
   "outputs": [],
   "source": [
    "detecciones = pd.read_csv('detecciones.csv', encoding='latin-1', delimiter=';')"
   ]
  },
  {
   "cell_type": "code",
   "execution_count": 37,
   "metadata": {},
   "outputs": [],
   "source": [
    "detecciones['hora_key'] = detecciones['hora'].apply(lambda x: x[:-2] + '00')\n",
    "                          "
   ]
  },
  {
   "cell_type": "code",
   "execution_count": 56,
   "metadata": {},
   "outputs": [],
   "source": [
    "completo = data_response.merge(detecciones, how='left', left_on=['FECHA', 'HORA'], right_on=['fecha', 'hora_key'])"
   ]
  },
  {
   "cell_type": "code",
   "execution_count": 55,
   "metadata": {},
   "outputs": [],
   "source": [
    "def corregir_trat_desfase(row):\n",
    "    if pd.notnull(row['tratamiento']):\n",
    "        row['Valor'] = row['tratamiento']\n",
    "    return row"
   ]
  },
  {
   "cell_type": "code",
   "execution_count": 57,
   "metadata": {},
   "outputs": [],
   "source": [
    "completo = completo.apply(corregir_trat_desfase, axis=1)"
   ]
  },
  {
   "cell_type": "code",
   "execution_count": 59,
   "metadata": {},
   "outputs": [],
   "source": [
    "completo['comportamiento'] = completo['comportamiento'].fillna('AUSENCIA')"
   ]
  },
  {
   "cell_type": "code",
   "execution_count": 62,
   "metadata": {},
   "outputs": [],
   "source": [
    "col_int = ['index', 'SITIO', 'FECHA', 'HORA', 'playlist', 'Tipo', 'Valor', \n",
    "       'hora', 'comportamiento', 'id', 'archivo video',\n",
    "       'archivo tabla de selección', 'observaciones']\n",
    "completo_col_interes = completo[col_int]\n",
    "\n",
    "completo_col_interes.columns = ['index', 'sitio', 'fecha', 'hora', 'playlist', 'tipo', 'tratamiento', \n",
    "       'hora_especifica', 'comportamiento', 'id', 'archivo_video',\n",
    "       'archivo_tabla_de_selección', 'observaciones']"
   ]
  },
  {
   "cell_type": "code",
   "execution_count": 63,
   "metadata": {},
   "outputs": [],
   "source": [
    "completo_col_interes.to_csv('objetivo_1_completo.csv', sep =';', index=False)"
   ]
  }
 ],
 "metadata": {
  "kernelspec": {
   "display_name": "venv",
   "language": "python",
   "name": "python3"
  },
  "language_info": {
   "codemirror_mode": {
    "name": "ipython",
    "version": 3
   },
   "file_extension": ".py",
   "mimetype": "text/x-python",
   "name": "python",
   "nbconvert_exporter": "python",
   "pygments_lexer": "ipython3",
   "version": "3.12.0"
  }
 },
 "nbformat": 4,
 "nbformat_minor": 2
}
