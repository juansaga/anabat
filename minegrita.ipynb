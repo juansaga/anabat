{
 "cells": [
  {
   "cell_type": "code",
   "execution_count": 1,
   "metadata": {},
   "outputs": [],
   "source": [
    "import pandas as pd\n",
    "import numpy as np\n",
    "pd.set_option('display.max_columns', None)\n",
    "pd.set_option('display.max_rows', 100)"
   ]
  },
  {
   "cell_type": "code",
   "execution_count": 2,
   "metadata": {},
   "outputs": [],
   "source": [
    "playlist = pd.read_csv('data_ana/PLAYLIST_SEPARADO.csv', sep = ';')\n",
    "junto = pd.read_csv('data_ana/junto2.csv', delimiter= ';',encoding='latin-1')\n",
    "codigos = pd.read_csv('data_ana/codigos2.csv', sep = ';')\n",
    "codigos_playlist = pd.read_csv('data_ana/GLOBALLY_FILTERED_MODIFIED_PLAYLIST.csv', sep = ';')"
   ]
  },
  {
   "cell_type": "code",
   "execution_count": 3,
   "metadata": {},
   "outputs": [],
   "source": [
    "junto['PlaylistID'] = junto['PlaylistID'].apply(lambda x: x.replace('-', '_'))\n",
    "playlist['PlaylistID'] = playlist['PlaylistID'].apply(lambda x: x.replace('-', '_'))\n",
    "codigos_playlist['PlaylistID'] = codigos_playlist['PlaylistID'].apply(lambda x: x.replace('-', '_'))"
   ]
  },
  {
   "cell_type": "code",
   "execution_count": 4,
   "metadata": {},
   "outputs": [],
   "source": [
    "codigos_playlist=codigos_playlist.iloc[:80,:]"
   ]
  },
  {
   "cell_type": "code",
   "execution_count": 5,
   "metadata": {},
   "outputs": [],
   "source": [
    "junto=junto.merge(codigos_playlist,how='left',on=['PlaylistID'])"
   ]
  },
  {
   "cell_type": "code",
   "execution_count": 6,
   "metadata": {},
   "outputs": [],
   "source": [
    "melted_df = playlist.melt(id_vars=['Group', 'ID_leaf', 'PlaylistID'], \n",
    "                    value_vars=['L1','L2','L3','L4','SIL','P1','SIL_1','P2','SIL_2','P3','SIL_3','P4','SIL_4','A1','SIL_5','A2','SIL_6','A3','SIL_7','A4'],\n",
    "                    var_name='segmento', \n",
    "                    value_name='codigo_tratamiento')\n"
   ]
  },
  {
   "cell_type": "code",
   "execution_count": 7,
   "metadata": {},
   "outputs": [],
   "source": [
    "segmentos = {'START' : 0,\n",
    "            'L1' : 1.4,\n",
    "            'L2' : 17.4,\n",
    "            'L3' : 33.4,\n",
    "            'L4' : 49.4,\n",
    "            'SIL' : 65.4,\n",
    "            'TRAN1' : 70.4,\n",
    "            'P1' : 71.6,\n",
    "            'SIL_1' : 87.6,\n",
    "            'P2' : 103.6,\n",
    "            'SIL_2' : 119.6,\n",
    "            'P3' : 135.6,\n",
    "            'SIL_3' : 151.6,\n",
    "            'P4' : 167.6,\n",
    "            'SIL_4' : 183.6,\n",
    "            'TRAN2' : 199.6,\n",
    "            'A1' : 200.8,\n",
    "            'SIL_5' : 216.8,\n",
    "            'A2' : 232.8,\n",
    "            'SIL_6' : 248.8,\n",
    "            'A3' : 264.8,\n",
    "            'SIL_7' : 280.8,\n",
    "            'A4' : 296.8,\n",
    "            'END': 312.8\n",
    "            }\n",
    "\n",
    "segmentos_2 = {'START' : 0,\n",
    "    'P1' : 1.4,\n",
    "    'SIL_1' : 17.4,\n",
    "    'P2' : 33.4,\n",
    "    'SIL_2' : 49.4,\n",
    "    'P3' : 65.4,\n",
    "    'SIL_3' : 81.4,\n",
    "    'P4' : 97.4,\n",
    "    'SIL_4' : 113.4,\n",
    "    'A1' : 129.4,\n",
    "    'SIL_5' : 144.4,\n",
    "    'A2' : 160.4,\n",
    "    'SIL_6' : 176.4,\n",
    "    'A3' : 192.4,\n",
    "    'SIL_7' : 208.4,\n",
    "    'A4' : 224.4,\n",
    "    'END': 240.4\n",
    "}"
   ]
  },
  {
   "cell_type": "code",
   "execution_count": 8,
   "metadata": {},
   "outputs": [],
   "source": [
    "#saber en que tiempo empiza \n",
    "def find_segment(time, playlistid):\n",
    "    if int(playlistid[-1]) == 1 or int(playlistid[-1]) == 2:\n",
    "        previous_segment = 'START'\n",
    "        for segment, value in segmentos.items():\n",
    "            if time < value:\n",
    "                return previous_segment\n",
    "            previous_segment = segment\n",
    "\n",
    "    previous_segment = 'START'\n",
    "    for segment, value in segmentos_2.items():\n",
    "        if time < value:\n",
    "            return previous_segment\n",
    "        previous_segment = segment\n",
    "    return previous_segment"
   ]
  },
  {
   "cell_type": "code",
   "execution_count": 9,
   "metadata": {},
   "outputs": [],
   "source": [
    "junto['segmento'] = junto.apply(lambda row: find_segment(row['Begin Time (s)'] - row['START'], row['PlaylistID']), axis = 1)"
   ]
  },
  {
   "cell_type": "code",
   "execution_count": 10,
   "metadata": {},
   "outputs": [],
   "source": [
    "junto_tratamiento = junto.merge(melted_df, how = 'left', left_on=['PlaylistID', 'segmento'], right_on = ['PlaylistID','segmento'])"
   ]
  },
  {
   "cell_type": "code",
   "execution_count": 11,
   "metadata": {},
   "outputs": [],
   "source": [
    "tratamientos = junto_tratamiento.merge(codigos, how = 'left', left_on='codigo_tratamiento', right_on = 'Tratamiento_codigo' )"
   ]
  },
  {
   "cell_type": "code",
   "execution_count": 12,
   "metadata": {},
   "outputs": [],
   "source": [
    "columnas_tratamiento = ['Audio','TIPO', 'Group_x', 'ID_leaf_x', 'PlaylistID', 'Response', 'Tratamiento_significado','Delta Time (s)','SNR NIST Quick (dB)', 'segmento', 'Global_Code_LINEABASE',\n",
    "       'Global_Code_PARENTESCO', 'Global_Code_ASOCIACION',   ]\n",
    "tratamientos_columnas_interes = tratamientos[columnas_tratamiento]\n",
    "\n"
   ]
  },
  {
   "cell_type": "code",
   "execution_count": 13,
   "metadata": {},
   "outputs": [],
   "source": [
    "def obtener_parentesco (row):\n",
    "    if type(row['Tratamiento_significado']) == float:\n",
    "        return row['Tratamiento_significado']\n",
    "    if '-' in row['Tratamiento_significado']:\n",
    "        parentesco = row['Tratamiento_significado'].split('-')[0]\n",
    "        return parentesco\n",
    "    return row['Tratamiento_significado']\n",
    "\n",
    "def obtener_asociacion(row):\n",
    "    if type(row['Tratamiento_significado']) == float:\n",
    "        return row['Tratamiento_significado']\n",
    "    if '-' in row['Tratamiento_significado']:\n",
    "        parentesco = row['Tratamiento_significado'].split('-')[1]\n",
    "        parentesco = parentesco.split('_')[0]\n",
    "        return parentesco\n",
    "    return row['Tratamiento_significado']\n",
    "\n",
    "def obtener_riesgo(row):\n",
    "    if type(row['Tratamiento_significado']) == float:\n",
    "        return row['Tratamiento_significado']\n",
    "    if '_' not in row['Tratamiento_significado']:\n",
    "\n",
    "        return np.nan\n",
    "\n",
    "    if '_' in row['Tratamiento_significado']:\n",
    "        parentesco = row['Tratamiento_significado'].split('_')[-1]\n",
    "        if parentesco in '1234567':\n",
    "            return np.nan\n",
    "        return parentesco\n",
    "    return row['Tratamiento_significado']\n",
    "\n",
    "    \n",
    "\n"
   ]
  },
  {
   "cell_type": "code",
   "execution_count": 14,
   "metadata": {},
   "outputs": [
    {
     "name": "stderr",
     "output_type": "stream",
     "text": [
      "C:\\Users\\juans\\AppData\\Local\\Temp\\ipykernel_15892\\1591421628.py:1: SettingWithCopyWarning: \n",
      "A value is trying to be set on a copy of a slice from a DataFrame.\n",
      "Try using .loc[row_indexer,col_indexer] = value instead\n",
      "\n",
      "See the caveats in the documentation: https://pandas.pydata.org/pandas-docs/stable/user_guide/indexing.html#returning-a-view-versus-a-copy\n",
      "  tratamientos_columnas_interes['parentesco'] = tratamientos_columnas_interes.apply(obtener_parentesco, axis = 1 )\n",
      "C:\\Users\\juans\\AppData\\Local\\Temp\\ipykernel_15892\\1591421628.py:2: SettingWithCopyWarning: \n",
      "A value is trying to be set on a copy of a slice from a DataFrame.\n",
      "Try using .loc[row_indexer,col_indexer] = value instead\n",
      "\n",
      "See the caveats in the documentation: https://pandas.pydata.org/pandas-docs/stable/user_guide/indexing.html#returning-a-view-versus-a-copy\n",
      "  tratamientos_columnas_interes['asociacion'] = tratamientos_columnas_interes.apply(obtener_asociacion, axis = 1 )\n",
      "C:\\Users\\juans\\AppData\\Local\\Temp\\ipykernel_15892\\1591421628.py:3: SettingWithCopyWarning: \n",
      "A value is trying to be set on a copy of a slice from a DataFrame.\n",
      "Try using .loc[row_indexer,col_indexer] = value instead\n",
      "\n",
      "See the caveats in the documentation: https://pandas.pydata.org/pandas-docs/stable/user_guide/indexing.html#returning-a-view-versus-a-copy\n",
      "  tratamientos_columnas_interes['riesgo'] = tratamientos_columnas_interes.apply(obtener_riesgo, axis = 1 )\n"
     ]
    }
   ],
   "source": [
    "tratamientos_columnas_interes['parentesco'] = tratamientos_columnas_interes.apply(obtener_parentesco, axis = 1 )\n",
    "tratamientos_columnas_interes['asociacion'] = tratamientos_columnas_interes.apply(obtener_asociacion, axis = 1 )\n",
    "tratamientos_columnas_interes['riesgo'] = tratamientos_columnas_interes.apply(obtener_riesgo, axis = 1 )"
   ]
  },
  {
   "cell_type": "code",
   "execution_count": 15,
   "metadata": {},
   "outputs": [],
   "source": [
    "tratamientos_columnas_interes.to_csv('tratamientos_columnas_interes.csv', sep = ';')"
   ]
  },
  {
   "cell_type": "code",
   "execution_count": 16,
   "metadata": {},
   "outputs": [],
   "source": [
    "tratamientos_columnas_interes = pd.read_csv('tratamientos_columnas_interes.csv', sep = ';')"
   ]
  },
  {
   "cell_type": "code",
   "execution_count": 17,
   "metadata": {},
   "outputs": [],
   "source": [
    "final = pd.read_csv('TESIS_AMAG_OBJ2Y3_BD_FINAL.csv', sep = ';')"
   ]
  },
  {
   "cell_type": "code",
   "execution_count": 19,
   "metadata": {},
   "outputs": [],
   "source": [
    "playlistycodigos=melted_df.merge(codigos_playlist,how='left',on=['PlaylistID'])"
   ]
  },
  {
   "cell_type": "code",
   "execution_count": 20,
   "metadata": {},
   "outputs": [],
   "source": [
    "playlist_completo=playlistycodigos.merge(codigos, how='left', left_on=['codigo_tratamiento'], right_on=['Tratamiento_codigo'])"
   ]
  },
  {
   "cell_type": "code",
   "execution_count": 21,
   "metadata": {},
   "outputs": [],
   "source": [
    "# final_completo[final_completo['ID_leaf'].isna()]"
   ]
  },
  {
   "cell_type": "code",
   "execution_count": 22,
   "metadata": {},
   "outputs": [
    {
     "data": {
      "text/plain": [
       "ID_leaf                     int64\n",
       "PlaylistID                 object\n",
       "TIPO                       object\n",
       "Tratamiento_significado    object\n",
       "parentesco                 object\n",
       "asociacion                 object\n",
       "riesgo                     object\n",
       "segmento                   object\n",
       "orden_segmento              int64\n",
       "Conteo                      int64\n",
       "dtype: object"
      ]
     },
     "execution_count": 22,
     "metadata": {},
     "output_type": "execute_result"
    }
   ],
   "source": [
    "final.dtypes"
   ]
  },
  {
   "cell_type": "code",
   "execution_count": 23,
   "metadata": {},
   "outputs": [],
   "source": [
    "playlist_completo['parentesco'] = playlist_completo.apply(obtener_parentesco, axis = 1 )\n",
    "playlist_completo['asociacion'] = playlist_completo.apply(obtener_asociacion, axis = 1 )\n",
    "playlist_completo['riesgo'] = playlist_completo.apply(obtener_riesgo, axis = 1 )"
   ]
  },
  {
   "cell_type": "code",
   "execution_count": 24,
   "metadata": {},
   "outputs": [],
   "source": [
    "final_completo=playlist_completo.merge(final, how='left',on=['PlaylistID','segmento'])"
   ]
  },
  {
   "cell_type": "code",
   "execution_count": 25,
   "metadata": {},
   "outputs": [
    {
     "name": "stdout",
     "output_type": "stream",
     "text": [
      "<class 'pandas.core.frame.DataFrame'>\n",
      "RangeIndex: 1600 entries, 0 to 1599\n",
      "Data columns (total 23 columns):\n",
      " #   Column                     Non-Null Count  Dtype  \n",
      "---  ------                     --------------  -----  \n",
      " 0   Group_x                    1600 non-null   int64  \n",
      " 1   ID_leaf_x                  1600 non-null   object \n",
      " 2   PlaylistID                 1600 non-null   object \n",
      " 3   segmento                   1600 non-null   object \n",
      " 4   codigo_tratamiento         1600 non-null   object \n",
      " 5   Group_y                    1600 non-null   int64  \n",
      " 6   ID_leaf_y                  1600 non-null   object \n",
      " 7   Global_Code_LINEABASE      1600 non-null   int64  \n",
      " 8   Global_Code_PARENTESCO     1600 non-null   int64  \n",
      " 9   Global_Code_ASOCIACION     1600 non-null   int64  \n",
      " 10  Tratamiento_codigo         1495 non-null   object \n",
      " 11  Tratamiento_significado_x  1495 non-null   object \n",
      " 12  parentesco_x               1495 non-null   object \n",
      " 13  asociacion_x               1495 non-null   object \n",
      " 14  riesgo_x                   640 non-null    object \n",
      " 15  ID_leaf                    339 non-null    float64\n",
      " 16  TIPO                       339 non-null    object \n",
      " 17  Tratamiento_significado_y  339 non-null    object \n",
      " 18  parentesco_y               339 non-null    object \n",
      " 19  asociacion_y               339 non-null    object \n",
      " 20  riesgo_y                   339 non-null    object \n",
      " 21  orden_segmento             339 non-null    float64\n",
      " 22  Conteo                     339 non-null    float64\n",
      "dtypes: float64(3), int64(5), object(15)\n",
      "memory usage: 287.6+ KB\n"
     ]
    }
   ],
   "source": [
    "final_completo.info()"
   ]
  },
  {
   "cell_type": "code",
   "execution_count": 26,
   "metadata": {},
   "outputs": [],
   "source": [
    "columnas_final = ['ID_leaf_x', 'PlaylistID','TIPO', 'Group_x','Tratamiento_significado','Delta Time (s)','SNR NIST Quick (dB)', 'segmento', 'Global_Code_LINEABASE',\n",
    "       'Global_Code_PARENTESCO', 'Global_Code_ASOCIACION',   ]\n",
    "tratamientos_columnas_interes = tratamientos[columnas_tratamiento]\n"
   ]
  },
  {
   "cell_type": "code",
   "execution_count": 32,
   "metadata": {},
   "outputs": [],
   "source": [
    "leaf_playlist_indexer = junto[['ID_leaf_x', 'PlaylistID']].drop_duplicates()"
   ]
  },
  {
   "cell_type": "code",
   "execution_count": 38,
   "metadata": {},
   "outputs": [],
   "source": [
    "playlist_corregido = playlist_completo.merge(leaf_playlist_indexer, how = 'left', on = 'PlaylistID')[['Group_x', 'PlaylistID', 'segmento',\n",
    "       'codigo_tratamiento', 'Global_Code_LINEABASE',\n",
    "       'Global_Code_PARENTESCO', 'Global_Code_ASOCIACION',\n",
    "       'Tratamiento_codigo', 'Tratamiento_significado', 'parentesco',\n",
    "       'asociacion', 'riesgo', 'ID_leaf_x_y']]"
   ]
  },
  {
   "cell_type": "code",
   "execution_count": 44,
   "metadata": {},
   "outputs": [],
   "source": [
    "final_completo = playlist_corregido.merge(final, how = 'left', on = ['PlaylistID', 'segmento'])[['Group_x', 'PlaylistID', 'segmento', 'codigo_tratamiento',\n",
    "       'Global_Code_LINEABASE', 'Global_Code_PARENTESCO',\n",
    "       'Global_Code_ASOCIACION', 'Tratamiento_codigo',\n",
    "       'Tratamiento_significado_x', 'parentesco_x', 'asociacion_x', 'riesgo_x',\n",
    "       'ID_leaf_x_y', 'TIPO',\n",
    "        'orden_segmento', 'Conteo']]\n"
   ]
  },
  {
   "cell_type": "code",
   "execution_count": 59,
   "metadata": {},
   "outputs": [],
   "source": [
    "valores_excluidos = ['SIL', 'SIL_1', 'SIL_2', 'SIL_3', 'SIL_4', 'SIL_5', 'SIL_6', 'SIL_7']\n",
    "final_completo_sin_sil = final_completo[~final_completo['segmento'].isin(valores_excluidos)]"
   ]
  },
  {
   "cell_type": "code",
   "execution_count": 60,
   "metadata": {},
   "outputs": [],
   "source": [
    "condicion_playlist = ~final_completo_sin_sil['PlaylistID'].str.endswith('3')\n",
    "condicion_segmento = ~final_completo_sin_sil['segmento'].str.startswith('L')\n",
    "\n",
    "final_completo_filtrado = final_completo_sin_sil[condicion_playlist | condicion_segmento]"
   ]
  },
  {
   "cell_type": "code",
   "execution_count": 61,
   "metadata": {},
   "outputs": [
    {
     "name": "stderr",
     "output_type": "stream",
     "text": [
      "C:\\Users\\juans\\AppData\\Local\\Temp\\ipykernel_15892\\864685439.py:1: SettingWithCopyWarning: \n",
      "A value is trying to be set on a copy of a slice from a DataFrame.\n",
      "Try using .loc[row_indexer,col_indexer] = value instead\n",
      "\n",
      "See the caveats in the documentation: https://pandas.pydata.org/pandas-docs/stable/user_guide/indexing.html#returning-a-view-versus-a-copy\n",
      "  final_completo_filtrado['Conteo'] = final_completo_filtrado['Conteo'].fillna(0)\n",
      "C:\\Users\\juans\\AppData\\Local\\Temp\\ipykernel_15892\\864685439.py:2: SettingWithCopyWarning: \n",
      "A value is trying to be set on a copy of a slice from a DataFrame.\n",
      "Try using .loc[row_indexer,col_indexer] = value instead\n",
      "\n",
      "See the caveats in the documentation: https://pandas.pydata.org/pandas-docs/stable/user_guide/indexing.html#returning-a-view-versus-a-copy\n",
      "  final_completo_filtrado['TIPO'] = final_completo_filtrado['TIPO'].fillna('R')\n"
     ]
    }
   ],
   "source": [
    "final_completo_filtrado['Conteo'] = final_completo_filtrado['Conteo'].fillna(0)\n",
    "final_completo_filtrado['TIPO'] = final_completo_filtrado['TIPO'].fillna('R')"
   ]
  },
  {
   "cell_type": "code",
   "execution_count": 62,
   "metadata": {},
   "outputs": [],
   "source": [
    "final_completo_filtrado.to_csv(\"datos_para_modelo.csv\", index = False)"
   ]
  }
 ],
 "metadata": {
  "kernelspec": {
   "display_name": "venv",
   "language": "python",
   "name": "python3"
  },
  "language_info": {
   "codemirror_mode": {
    "name": "ipython",
    "version": 3
   },
   "file_extension": ".py",
   "mimetype": "text/x-python",
   "name": "python",
   "nbconvert_exporter": "python",
   "pygments_lexer": "ipython3",
   "version": "3.10.11"
  }
 },
 "nbformat": 4,
 "nbformat_minor": 2
}
