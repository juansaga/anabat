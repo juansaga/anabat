{
 "cells": [
  {
   "cell_type": "code",
   "execution_count": 14,
   "metadata": {},
   "outputs": [],
   "source": [
    "import pandas as pd\n",
    "import numpy as np\n",
    "pd.set_option('display.max_columns', None)\n",
    "pd.set_option('display.max_rows', 100)"
   ]
  },
  {
   "cell_type": "code",
   "execution_count": 15,
   "metadata": {},
   "outputs": [],
   "source": [
    "playlist = pd.read_csv('PLAYLIST_SEPARADO.csv', sep = ';')\n",
    "junto = pd.read_csv('junto2.csv', sep = ';')\n",
    "codigos = pd.read_csv('codigos2.csv', sep = ';')"
   ]
  },
  {
   "cell_type": "code",
   "execution_count": 16,
   "metadata": {},
   "outputs": [],
   "source": [
    "junto['PlaylistID'] = junto['PlaylistID'].apply(lambda x: x.replace('-', '_'))\n",
    "playlist['PlaylistID'] = playlist['PlaylistID'].apply(lambda x: x.replace('-', '_'))"
   ]
  },
  {
   "cell_type": "code",
   "execution_count": 17,
   "metadata": {},
   "outputs": [],
   "source": [
    "melted_df = playlist.melt(id_vars=['Group', 'ID_leaf', 'PlaylistID'], \n",
    "                    value_vars=['L1','L2','L3','L4','SIL','P1','SIL_1','P2','SIL_2','P3','SIL_3','P4','SIL_4','A1','SIL_5','A2','SIL_6','A3','SIL_7','A4'],\n",
    "                    var_name='segmento', \n",
    "                    value_name='codigo_tratamiento')\n"
   ]
  },
  {
   "cell_type": "code",
   "execution_count": 18,
   "metadata": {},
   "outputs": [],
   "source": [
    "segmentos = {'START' : 0,\n",
    "            'L1' : 1.4,\n",
    "            'L2' : 17.4,\n",
    "            'L3' : 33.4,\n",
    "            'L4' : 49.4,\n",
    "            'SIL' : 65.4,\n",
    "            'TRAN1' : 70.4,\n",
    "            'P1' : 71.6,\n",
    "            'SIL_1' : 87.6,\n",
    "            'P2' : 103.6,\n",
    "            'SIL_2' : 119.6,\n",
    "            'P3' : 135.6,\n",
    "            'SIL_3' : 151.6,\n",
    "            'P4' : 167.6,\n",
    "            'SIL_4' : 183.6,\n",
    "            'TRAN2' : 199.6,\n",
    "            'A1' : 200.8,\n",
    "            'SIL_5' : 216.8,\n",
    "            'A2' : 232.8,\n",
    "            'SIL_6' : 248.8,\n",
    "            'A3' : 264.8,\n",
    "            'SIL_7' : 280.8,\n",
    "            'A4' : 296.8,\n",
    "            'END': 312.8\n",
    "            }\n",
    "\n",
    "segmentos_2 = {'START' : 0,\n",
    "    'P1' : 1.4,\n",
    "    'SIL_1' : 17.4,\n",
    "    'P2' : 33.4,\n",
    "    'SIL_2' : 49.4,\n",
    "    'P3' : 65.4,\n",
    "    'SIL_3' : 81.4,\n",
    "    'P4' : 97.4,\n",
    "    'SIL_4' : 113.4,\n",
    "    'TRAN2' : 129.4,\n",
    "    'A1' : 130.2,\n",
    "    'SIL_5' : 143.3,\n",
    "    'A2' : 162.6,\n",
    "    'SIL_6' : 178.6,\n",
    "    'A3' : 191.6,\n",
    "    'SIL_7' : 207.6,\n",
    "    'A4' : 223.6,\n",
    "    'END': 238.6\n",
    "}"
   ]
  },
  {
   "cell_type": "code",
   "execution_count": 19,
   "metadata": {},
   "outputs": [],
   "source": [
    "def find_segment(time, playlistid):\n",
    "    if int(playlistid[-1]) == 1 or int(playlistid[-1]) == 2:\n",
    "        previous_segment = 'START'\n",
    "        for segment, value in segmentos.items():\n",
    "            if time < value:\n",
    "                return previous_segment\n",
    "            previous_segment = segment\n",
    "\n",
    "    previous_segment = 'START'\n",
    "    for segment, value in segmentos_2.items():\n",
    "        if time < value:\n",
    "            return previous_segment\n",
    "        previous_segment = segment\n",
    "    return previous_segment"
   ]
  },
  {
   "cell_type": "code",
   "execution_count": 20,
   "metadata": {},
   "outputs": [],
   "source": [
    "junto['segmento'] = junto.apply(lambda row: find_segment(row['Begin Time (s)'] - row['START'], row['PlaylistID']), axis = 1)"
   ]
  },
  {
   "cell_type": "code",
   "execution_count": 21,
   "metadata": {},
   "outputs": [],
   "source": [
    "junto_tratamiento = junto.merge(melted_df, how = 'left', left_on=['PlaylistID', 'segmento'], right_on = ['PlaylistID','segmento'])"
   ]
  },
  {
   "cell_type": "code",
   "execution_count": 22,
   "metadata": {},
   "outputs": [],
   "source": [
    "tratamientos = junto_tratamiento.merge(codigos, how = 'left', left_on='codigo_tratamiento', right_on = 'Tratamiento_codigo' )"
   ]
  },
  {
   "cell_type": "code",
   "execution_count": 23,
   "metadata": {},
   "outputs": [],
   "source": [
    "columnas_tratamiento = ['Audio','TIPO', 'Group_x', 'ID_leaf_x', 'PlaylistID', 'Tratamiento_significado'  ]\n",
    "tratamientos_columnas_interes = tratamientos[columnas_tratamiento]\n",
    "\n"
   ]
  },
  {
   "cell_type": "code",
   "execution_count": 24,
   "metadata": {},
   "outputs": [],
   "source": [
    "def obtener_parentesco (row):\n",
    "    if type(row['Tratamiento_significado']) == float:\n",
    "        return row['Tratamiento_significado']\n",
    "    if '-' in row['Tratamiento_significado']:\n",
    "        parentesco = row['Tratamiento_significado'].split('-')[0]\n",
    "        return parentesco\n",
    "    return row['Tratamiento_significado']\n",
    "\n",
    "def obtener_asociacion(row):\n",
    "    if type(row['Tratamiento_significado']) == float:\n",
    "        return row['Tratamiento_significado']\n",
    "    if '-' in row['Tratamiento_significado']:\n",
    "        parentesco = row['Tratamiento_significado'].split('-')[1]\n",
    "        parentesco = parentesco.split('_')[0]\n",
    "        return parentesco\n",
    "    return row['Tratamiento_significado']\n",
    "\n",
    "def obtener_riesgo(row):\n",
    "    if type(row['Tratamiento_significado']) == float:\n",
    "        return row['Tratamiento_significado']\n",
    "    if '_' not in row['Tratamiento_significado']:\n",
    "\n",
    "        return np.nan\n",
    "\n",
    "    if '_' in row['Tratamiento_significado']:\n",
    "        parentesco = row['Tratamiento_significado'].split('_')[-1]\n",
    "        if parentesco in '1234567':\n",
    "            return np.nan\n",
    "        return parentesco\n",
    "    return row['Tratamiento_significado']\n",
    "\n",
    "    \n",
    "\n"
   ]
  },
  {
   "cell_type": "code",
   "execution_count": 25,
   "metadata": {},
   "outputs": [
    {
     "name": "stderr",
     "output_type": "stream",
     "text": [
      "C:\\Users\\juans\\AppData\\Local\\Temp\\ipykernel_6060\\1910786652.py:1: SettingWithCopyWarning: \n",
      "A value is trying to be set on a copy of a slice from a DataFrame.\n",
      "Try using .loc[row_indexer,col_indexer] = value instead\n",
      "\n",
      "See the caveats in the documentation: https://pandas.pydata.org/pandas-docs/stable/user_guide/indexing.html#returning-a-view-versus-a-copy\n",
      "  tratamientos_columnas_interes['parentesco'] = tratamientos_columnas_interes.apply(obtener_parentesco, axis = 1 )\n",
      "C:\\Users\\juans\\AppData\\Local\\Temp\\ipykernel_6060\\1910786652.py:2: SettingWithCopyWarning: \n",
      "A value is trying to be set on a copy of a slice from a DataFrame.\n",
      "Try using .loc[row_indexer,col_indexer] = value instead\n",
      "\n",
      "See the caveats in the documentation: https://pandas.pydata.org/pandas-docs/stable/user_guide/indexing.html#returning-a-view-versus-a-copy\n",
      "  tratamientos_columnas_interes['asociacion'] = tratamientos_columnas_interes.apply(obtener_asociacion, axis = 1 )\n",
      "C:\\Users\\juans\\AppData\\Local\\Temp\\ipykernel_6060\\1910786652.py:3: SettingWithCopyWarning: \n",
      "A value is trying to be set on a copy of a slice from a DataFrame.\n",
      "Try using .loc[row_indexer,col_indexer] = value instead\n",
      "\n",
      "See the caveats in the documentation: https://pandas.pydata.org/pandas-docs/stable/user_guide/indexing.html#returning-a-view-versus-a-copy\n",
      "  tratamientos_columnas_interes['riesgo'] = tratamientos_columnas_interes.apply(obtener_riesgo, axis = 1 )\n"
     ]
    }
   ],
   "source": [
    "tratamientos_columnas_interes['parentesco'] = tratamientos_columnas_interes.apply(obtener_parentesco, axis = 1 )\n",
    "tratamientos_columnas_interes['asociacion'] = tratamientos_columnas_interes.apply(obtener_asociacion, axis = 1 )\n",
    "tratamientos_columnas_interes['riesgo'] = tratamientos_columnas_interes.apply(obtener_riesgo, axis = 1 )\n",
    "\n",
    "\n",
    "\n",
    "\n"
   ]
  },
  {
   "cell_type": "code",
   "execution_count": 26,
   "metadata": {},
   "outputs": [],
   "source": [
    "tratamientos_columnas_interes.to_csv('tratamientos_columnas_interes.csv', sep = ';')"
   ]
  }
 ],
 "metadata": {
  "kernelspec": {
   "display_name": "venv",
   "language": "python",
   "name": "python3"
  },
  "language_info": {
   "codemirror_mode": {
    "name": "ipython",
    "version": 3
   },
   "file_extension": ".py",
   "mimetype": "text/x-python",
   "name": "python",
   "nbconvert_exporter": "python",
   "pygments_lexer": "ipython3",
   "version": "3.12.0"
  }
 },
 "nbformat": 4,
 "nbformat_minor": 2
}
